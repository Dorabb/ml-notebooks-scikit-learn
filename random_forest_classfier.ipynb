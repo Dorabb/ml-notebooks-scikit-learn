{
 "cells": [
  {
   "cell_type": "code",
   "execution_count": 1,
   "metadata": {
    "executionInfo": {
     "elapsed": 2874,
     "status": "ok",
     "timestamp": 1754799602785,
     "user": {
      "displayName": "Ediga Dorababu",
      "userId": "03547425676256044826"
     },
     "user_tz": -330
    },
    "id": "IjeB3ZV1NC-4"
   },
   "outputs": [],
   "source": [
    "from sklearn.ensemble import RandomForestClassifier"
   ]
  },
  {
   "cell_type": "code",
   "execution_count": 3,
   "metadata": {
    "executionInfo": {
     "elapsed": 18,
     "status": "ok",
     "timestamp": 1754799659093,
     "user": {
      "displayName": "Ediga Dorababu",
      "userId": "03547425676256044826"
     },
     "user_tz": -330
    },
    "id": "5yf-NyVbNQ0N"
   },
   "outputs": [],
   "source": [
    "clf = RandomForestClassifier(random_state=0)"
   ]
  },
  {
   "cell_type": "code",
   "execution_count": 5,
   "metadata": {
    "executionInfo": {
     "elapsed": 22,
     "status": "ok",
     "timestamp": 1754799727965,
     "user": {
      "displayName": "Ediga Dorababu",
      "userId": "03547425676256044826"
     },
     "user_tz": -330
    },
    "id": "MJFv7jZDNeZV"
   },
   "outputs": [],
   "source": [
    "X = [[ 1, 2, 3],\n",
    "     [ 11, 12, 13]]"
   ]
  },
  {
   "cell_type": "code",
   "execution_count": 6,
   "metadata": {
    "executionInfo": {
     "elapsed": 6,
     "status": "ok",
     "timestamp": 1754799752901,
     "user": {
      "displayName": "Ediga Dorababu",
      "userId": "03547425676256044826"
     },
     "user_tz": -330
    },
    "id": "7fCRsEJsNvDQ"
   },
   "outputs": [],
   "source": [
    "y = [0, 1] #classes of each sameple"
   ]
  },
  {
   "cell_type": "code",
   "execution_count": null,
   "metadata": {
    "colab": {
     "base_uri": "https://localhost:8080/",
     "height": 80
    },
    "executionInfo": {
     "elapsed": 273,
     "status": "ok",
     "timestamp": 1754799771268,
     "user": {
      "displayName": "Ediga Dorababu",
      "userId": "03547425676256044826"
     },
     "user_tz": -330
    },
    "id": "WZxjoIf_N1Mb",
    "outputId": "19fbd5bc-0c25-4bd3-f3c5-34416dc4074b"
   },
   "outputs": [],
   "source": [
    "clf.fit(X, y)"
   ]
  },
  {
   "cell_type": "code",
   "execution_count": null,
   "metadata": {
    "colab": {
     "base_uri": "https://localhost:8080/"
    },
    "executionInfo": {
     "elapsed": 27,
     "status": "ok",
     "timestamp": 1754799827675,
     "user": {
      "displayName": "Ediga Dorababu",
      "userId": "03547425676256044826"
     },
     "user_tz": -330
    },
    "id": "f1UY-_2YN9Jw",
    "outputId": "65df6ddd-b0eb-469c-bfb0-0291e38fafdb"
   },
   "outputs": [],
   "source": [
    "clf.predict(X) # predict classes of the training data"
   ]
  }
 ],
 "metadata": {
  "colab": {
   "authorship_tag": "ABX9TyM2TYh5Mmrd/PNW3pIg+nmB",
   "provenance": []
  },
  "kernelspec": {
   "display_name": "Python 3",
   "name": "python3"
  },
  "language_info": {
   "name": "python"
  }
 },
 "nbformat": 4,
 "nbformat_minor": 0
}
